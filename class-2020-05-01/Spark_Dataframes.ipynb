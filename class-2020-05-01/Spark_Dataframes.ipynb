{
  "nbformat": 4,
  "nbformat_minor": 0,
  "metadata": {
    "colab": {
      "name": "Spark Dataframes.ipynb",
      "provenance": [],
      "toc_visible": true
    },
    "kernelspec": {
      "name": "python3",
      "display_name": "Python 3"
    }
  },
  "cells": [
    {
      "cell_type": "markdown",
      "metadata": {
        "id": "0DdZyNw6v6uy",
        "colab_type": "text"
      },
      "source": [
        "## Setup the Spark"
      ]
    },
    {
      "cell_type": "code",
      "metadata": {
        "id": "8-STAn7woPNj",
        "colab_type": "code",
        "colab": {}
      },
      "source": [
        "# download and Java and Spark\n",
        "! apt-get install openjdk-8-jdk-headless -qq > /dev/null\n",
        "! wget -q https://archive.apache.org/dist/spark/spark-2.4.5/spark-2.4.5-bin-hadoop2.7.tgz\n",
        "! tar xf spark-2.4.5-bin-hadoop2.7.tgz\n",
        "! pip install -q findspark"
      ],
      "execution_count": 0,
      "outputs": []
    },
    {
      "cell_type": "code",
      "metadata": {
        "id": "HeOeVwNMqFNF",
        "colab_type": "code",
        "colab": {}
      },
      "source": [
        "# set the environment variables for spark\n",
        "import os\n",
        "os.environ[\"JAVA_HOME\"] = \"/usr/lib/jvm/java-8-openjdk-amd64\"\n",
        "os.environ[\"SPARK_HOME\"] = \"/content/spark-2.4.5-bin-hadoop2.7\""
      ],
      "execution_count": 0,
      "outputs": []
    },
    {
      "cell_type": "code",
      "metadata": {
        "id": "e24eez_UqkBV",
        "colab_type": "code",
        "outputId": "f6b34871-623b-463f-ab0a-3e73d50a08c8",
        "colab": {
          "base_uri": "https://localhost:8080/",
          "height": 255
        }
      },
      "source": [
        "! python -m pip install pyspark"
      ],
      "execution_count": 0,
      "outputs": [
        {
          "output_type": "stream",
          "text": [
            "Collecting pyspark\n",
            "\u001b[?25l  Downloading https://files.pythonhosted.org/packages/9a/5a/271c416c1c2185b6cb0151b29a91fff6fcaed80173c8584ff6d20e46b465/pyspark-2.4.5.tar.gz (217.8MB)\n",
            "\u001b[K     |████████████████████████████████| 217.8MB 42kB/s \n",
            "\u001b[?25hCollecting py4j==0.10.7\n",
            "\u001b[?25l  Downloading https://files.pythonhosted.org/packages/e3/53/c737818eb9a7dc32a7cd4f1396e787bd94200c3997c72c1dbe028587bd76/py4j-0.10.7-py2.py3-none-any.whl (197kB)\n",
            "\u001b[K     |████████████████████████████████| 204kB 44.8MB/s \n",
            "\u001b[?25hBuilding wheels for collected packages: pyspark\n",
            "  Building wheel for pyspark (setup.py) ... \u001b[?25l\u001b[?25hdone\n",
            "  Created wheel for pyspark: filename=pyspark-2.4.5-py2.py3-none-any.whl size=218257927 sha256=9f1c54ec6cd0fe2ffe02d2e4520eccf22302b8a1a27c120825152b8dc1372e0b\n",
            "  Stored in directory: /root/.cache/pip/wheels/bf/db/04/61d66a5939364e756eb1c1be4ec5bdce6e04047fc7929a3c3c\n",
            "Successfully built pyspark\n",
            "Installing collected packages: py4j, pyspark\n",
            "Successfully installed py4j-0.10.7 pyspark-2.4.5\n"
          ],
          "name": "stdout"
        }
      ]
    },
    {
      "cell_type": "code",
      "metadata": {
        "id": "eYdRET3moDMA",
        "colab_type": "code",
        "outputId": "d0ef8c33-6f48-435d-868a-fc9f38634ce7",
        "colab": {
          "base_uri": "https://localhost:8080/",
          "height": 138
        }
      },
      "source": [
        "from google.colab import drive\n",
        "drive.mount('/gdrive')\n",
        "%cd /gdrive"
      ],
      "execution_count": 0,
      "outputs": [
        {
          "output_type": "stream",
          "text": [
            "Go to this URL in a browser: https://accounts.google.com/o/oauth2/auth?client_id=947318989803-6bn6qk8qdgf4n4g3pfee6491hc0brc4i.apps.googleusercontent.com&redirect_uri=urn%3aietf%3awg%3aoauth%3a2.0%3aoob&response_type=code&scope=email%20https%3a%2f%2fwww.googleapis.com%2fauth%2fdocs.test%20https%3a%2f%2fwww.googleapis.com%2fauth%2fdrive%20https%3a%2f%2fwww.googleapis.com%2fauth%2fdrive.photos.readonly%20https%3a%2f%2fwww.googleapis.com%2fauth%2fpeopleapi.readonly\n",
            "\n",
            "Enter your authorization code:\n",
            "··········\n",
            "Mounted at /gdrive\n",
            "/gdrive\n"
          ],
          "name": "stdout"
        }
      ]
    },
    {
      "cell_type": "markdown",
      "metadata": {
        "id": "GB8BXvGDwJTX",
        "colab_type": "text"
      },
      "source": [
        "### Importing"
      ]
    },
    {
      "cell_type": "code",
      "metadata": {
        "id": "Nsur-VKqrlG4",
        "colab_type": "code",
        "colab": {}
      },
      "source": [
        "from pyspark import SparkContext, SQLContext"
      ],
      "execution_count": 0,
      "outputs": []
    },
    {
      "cell_type": "code",
      "metadata": {
        "id": "bdTaJX3urqFc",
        "colab_type": "code",
        "colab": {}
      },
      "source": [
        "sc = SparkContext()"
      ],
      "execution_count": 0,
      "outputs": []
    },
    {
      "cell_type": "code",
      "metadata": {
        "id": "s0trYPK6rtYL",
        "colab_type": "code",
        "colab": {}
      },
      "source": [
        "sqlContext = SQLContext(sc)"
      ],
      "execution_count": 0,
      "outputs": []
    },
    {
      "cell_type": "markdown",
      "metadata": {
        "id": "x784bsEqtUwY",
        "colab_type": "text"
      },
      "source": [
        "### Simple DataFrame"
      ]
    },
    {
      "cell_type": "code",
      "metadata": {
        "id": "PPZMvoy8r4aD",
        "colab_type": "code",
        "colab": {}
      },
      "source": [
        "df = sqlContext.createDataFrame(data=[\n",
        "    ('a', 4), \n",
        "    ('b', 2)\n",
        "  ], \n",
        "  schema=['Column A', 'Column B']\n",
        ")"
      ],
      "execution_count": 0,
      "outputs": []
    },
    {
      "cell_type": "code",
      "metadata": {
        "id": "WHGENLQUsQQZ",
        "colab_type": "code",
        "outputId": "bdc68b78-fec2-4630-f13e-c27c7801d7bc",
        "colab": {
          "base_uri": "https://localhost:8080/",
          "height": 34
        }
      },
      "source": [
        "# action\n",
        "df.count()"
      ],
      "execution_count": 0,
      "outputs": [
        {
          "output_type": "execute_result",
          "data": {
            "text/plain": [
              "2"
            ]
          },
          "metadata": {
            "tags": []
          },
          "execution_count": 18
        }
      ]
    },
    {
      "cell_type": "code",
      "metadata": {
        "id": "_jqXbs3ZsYSC",
        "colab_type": "code",
        "outputId": "336c050e-2522-42d3-d3e0-8e3c29ffa40a",
        "colab": {
          "base_uri": "https://localhost:8080/",
          "height": 34
        }
      },
      "source": [
        "df.head()"
      ],
      "execution_count": 0,
      "outputs": [
        {
          "output_type": "execute_result",
          "data": {
            "text/plain": [
              "Row(Column A='a', Column B=4)"
            ]
          },
          "metadata": {
            "tags": []
          },
          "execution_count": 19
        }
      ]
    },
    {
      "cell_type": "code",
      "metadata": {
        "id": "dF2GKBd2sd28",
        "colab_type": "code",
        "outputId": "adb6953e-a505-42d1-e062-e4568d2d9f12",
        "colab": {
          "base_uri": "https://localhost:8080/",
          "height": 134
        }
      },
      "source": [
        "df.show()"
      ],
      "execution_count": 0,
      "outputs": [
        {
          "output_type": "stream",
          "text": [
            "+--------+--------+\n",
            "|Column A|Column B|\n",
            "+--------+--------+\n",
            "|       a|       4|\n",
            "|       b|       2|\n",
            "+--------+--------+\n",
            "\n"
          ],
          "name": "stdout"
        }
      ]
    },
    {
      "cell_type": "markdown",
      "metadata": {
        "id": "RMy8W1SPtdjq",
        "colab_type": "text"
      },
      "source": [
        "### Load the Dataset"
      ]
    },
    {
      "cell_type": "code",
      "metadata": {
        "id": "kD99UV2_teE0",
        "colab_type": "code",
        "outputId": "b2690f37-fb91-4f0b-bda8-42733b763e05",
        "colab": {
          "base_uri": "https://localhost:8080/",
          "height": 84
        }
      },
      "source": [
        "sc.textFile('data.csv', use_unicode=True).take(4)"
      ],
      "execution_count": 0,
      "outputs": [
        {
          "output_type": "execute_result",
          "data": {
            "text/plain": [
              "['\"date\",\"time\",\"size\",\"r_version\",\"r_arch\",\"r_os\",\"package\",\"version\",\"country\",\"ip_id\"',\n",
              " '\"2015-12-12\",\"13:42:10\",257886,\"3.2.2\",\"i386\",\"mingw32\",\"HistData\",\"0.7-6\",\"CZ\",1',\n",
              " '\"2015-12-12\",\"13:24:37\",1236751,\"3.2.2\",\"x86_64\",\"mingw32\",\"RJSONIO\",\"1.3-0\",\"DE\",2',\n",
              " '\"2015-12-12\",\"13:42:35\",2077876,\"3.2.2\",\"i386\",\"mingw32\",\"UsingR\",\"2.0-5\",\"CZ\",1']"
            ]
          },
          "metadata": {
            "tags": []
          },
          "execution_count": 24
        }
      ]
    },
    {
      "cell_type": "code",
      "metadata": {
        "id": "OkSbKTCptsIB",
        "colab_type": "code",
        "colab": {}
      },
      "source": [
        "data = sc.textFile('data.csv').map(lambda x: x.replace('\"', '')).map(lambda x: x.split(','))"
      ],
      "execution_count": 0,
      "outputs": []
    },
    {
      "cell_type": "code",
      "metadata": {
        "id": "ExzYoppWvBfq",
        "colab_type": "code",
        "outputId": "f6333fbe-bd2c-4d36-f137-60a91f5f5d27",
        "colab": {
          "base_uri": "https://localhost:8080/",
          "height": 353
        }
      },
      "source": [
        "data.take(2)"
      ],
      "execution_count": 0,
      "outputs": [
        {
          "output_type": "execute_result",
          "data": {
            "text/plain": [
              "[['date',\n",
              "  'time',\n",
              "  'size',\n",
              "  'r_version',\n",
              "  'r_arch',\n",
              "  'r_os',\n",
              "  'package',\n",
              "  'version',\n",
              "  'country',\n",
              "  'ip_id'],\n",
              " ['2015-12-12',\n",
              "  '13:42:10',\n",
              "  '257886',\n",
              "  '3.2.2',\n",
              "  'i386',\n",
              "  'mingw32',\n",
              "  'HistData',\n",
              "  '0.7-6',\n",
              "  'CZ',\n",
              "  '1']]"
            ]
          },
          "metadata": {
            "tags": []
          },
          "execution_count": 36
        }
      ]
    },
    {
      "cell_type": "code",
      "metadata": {
        "id": "bR71iZpgwo6H",
        "colab_type": "code",
        "outputId": "bfcdd9ee-bd7d-4581-9d66-c95e385def65",
        "colab": {
          "base_uri": "https://localhost:8080/",
          "height": 185
        }
      },
      "source": [
        "# this is an RDD\n",
        "data.take(1)[0]"
      ],
      "execution_count": 0,
      "outputs": [
        {
          "output_type": "execute_result",
          "data": {
            "text/plain": [
              "['date',\n",
              " 'time',\n",
              " 'size',\n",
              " 'r_version',\n",
              " 'r_arch',\n",
              " 'r_os',\n",
              " 'package',\n",
              " 'version',\n",
              " 'country',\n",
              " 'ip_id']"
            ]
          },
          "metadata": {
            "tags": []
          },
          "execution_count": 38
        }
      ]
    },
    {
      "cell_type": "code",
      "metadata": {
        "id": "y7EbLSd4vKnN",
        "colab_type": "code",
        "colab": {}
      },
      "source": [
        "# this is an DataFrame - creating dataframe from text file\n",
        "df2 = sqlContext.createDataFrame(\n",
        "    data=data.filter(lambda x: x[0] != 'date'),\n",
        "    schema=data.take(1)[0]\n",
        ")"
      ],
      "execution_count": 0,
      "outputs": []
    },
    {
      "cell_type": "code",
      "metadata": {
        "id": "MfWprxW8zsq7",
        "colab_type": "code",
        "outputId": "edc98b43-a437-45d0-a2d0-f2646b419ac8",
        "colab": {
          "base_uri": "https://localhost:8080/",
          "height": 54
        }
      },
      "source": [
        "# transformation 2 in here.\n",
        "df2"
      ],
      "execution_count": 0,
      "outputs": [
        {
          "output_type": "execute_result",
          "data": {
            "text/plain": [
              "DataFrame[date: string, time: string, size: string, r_version: string, r_arch: string, r_os: string, package: string, version: string, country: string, ip_id: string]"
            ]
          },
          "metadata": {
            "tags": []
          },
          "execution_count": 63
        }
      ]
    },
    {
      "cell_type": "code",
      "metadata": {
        "id": "_pDPuewMwc3_",
        "colab_type": "code",
        "outputId": "7cecc719-905e-412d-c323-bfd3cf8285b7",
        "colab": {
          "base_uri": "https://localhost:8080/",
          "height": 77
        }
      },
      "source": [
        "# serial way\n",
        "df2.toPandas().sample()"
      ],
      "execution_count": 0,
      "outputs": [
        {
          "output_type": "execute_result",
          "data": {
            "text/html": [
              "<div>\n",
              "<style scoped>\n",
              "    .dataframe tbody tr th:only-of-type {\n",
              "        vertical-align: middle;\n",
              "    }\n",
              "\n",
              "    .dataframe tbody tr th {\n",
              "        vertical-align: top;\n",
              "    }\n",
              "\n",
              "    .dataframe thead th {\n",
              "        text-align: right;\n",
              "    }\n",
              "</style>\n",
              "<table border=\"1\" class=\"dataframe\">\n",
              "  <thead>\n",
              "    <tr style=\"text-align: right;\">\n",
              "      <th></th>\n",
              "      <th>date</th>\n",
              "      <th>time</th>\n",
              "      <th>size</th>\n",
              "      <th>r_version</th>\n",
              "      <th>r_arch</th>\n",
              "      <th>r_os</th>\n",
              "      <th>package</th>\n",
              "      <th>version</th>\n",
              "      <th>country</th>\n",
              "      <th>ip_id</th>\n",
              "    </tr>\n",
              "  </thead>\n",
              "  <tbody>\n",
              "    <tr>\n",
              "      <th>35233</th>\n",
              "      <td>2015-12-12</td>\n",
              "      <td>02:35:23</td>\n",
              "      <td>161227</td>\n",
              "      <td>3.2.2</td>\n",
              "      <td>x86_64</td>\n",
              "      <td>linux-gnu</td>\n",
              "      <td>gridBase</td>\n",
              "      <td>0.4-7</td>\n",
              "      <td>CA</td>\n",
              "      <td>2824</td>\n",
              "    </tr>\n",
              "  </tbody>\n",
              "</table>\n",
              "</div>"
            ],
            "text/plain": [
              "             date      time    size r_version  ...   package version country ip_id\n",
              "35233  2015-12-12  02:35:23  161227     3.2.2  ...  gridBase   0.4-7      CA  2824\n",
              "\n",
              "[1 rows x 10 columns]"
            ]
          },
          "metadata": {
            "tags": []
          },
          "execution_count": 53
        }
      ]
    },
    {
      "cell_type": "code",
      "metadata": {
        "id": "RF0B6smvzTO8",
        "colab_type": "code",
        "outputId": "b75b482d-a64b-4c13-93ef-668b8be44831",
        "colab": {
          "base_uri": "https://localhost:8080/",
          "height": 54
        }
      },
      "source": [
        "# this will save the the data apply transformations so far, and save in rdd or dataframe format\n",
        "df2.persist()"
      ],
      "execution_count": 0,
      "outputs": [
        {
          "output_type": "execute_result",
          "data": {
            "text/plain": [
              "DataFrame[date: string, time: string, size: string, r_version: string, r_arch: string, r_os: string, package: string, version: string, country: string, ip_id: string]"
            ]
          },
          "metadata": {
            "tags": []
          },
          "execution_count": 64
        }
      ]
    },
    {
      "cell_type": "code",
      "metadata": {
        "id": "lN97UmCp0sj5",
        "colab_type": "code",
        "outputId": "dbffd636-f458-4de3-c6f8-92169b9eda40",
        "colab": {
          "base_uri": "https://localhost:8080/",
          "height": 151
        }
      },
      "source": [
        "df2.show(2)"
      ],
      "execution_count": 0,
      "outputs": [
        {
          "output_type": "stream",
          "text": [
            "+----------+--------+-------+---------+------+-------+--------+-------+-------+-----+\n",
            "|      date|    time|   size|r_version|r_arch|   r_os| package|version|country|ip_id|\n",
            "+----------+--------+-------+---------+------+-------+--------+-------+-------+-----+\n",
            "|2015-12-12|13:42:10| 257886|    3.2.2|  i386|mingw32|HistData|  0.7-6|     CZ|    1|\n",
            "|2015-12-12|13:24:37|1236751|    3.2.2|x86_64|mingw32| RJSONIO|  1.3-0|     DE|    2|\n",
            "+----------+--------+-------+---------+------+-------+--------+-------+-------+-----+\n",
            "only showing top 2 rows\n",
            "\n"
          ],
          "name": "stdout"
        }
      ]
    },
    {
      "cell_type": "code",
      "metadata": {
        "id": "8C-5SZJR0wfX",
        "colab_type": "code",
        "outputId": "ea88084d-2c94-4348-e412-9d2ef7f451ec",
        "colab": {
          "base_uri": "https://localhost:8080/",
          "height": 185
        }
      },
      "source": [
        "df2.columns"
      ],
      "execution_count": 0,
      "outputs": [
        {
          "output_type": "execute_result",
          "data": {
            "text/plain": [
              "['date',\n",
              " 'time',\n",
              " 'size',\n",
              " 'r_version',\n",
              " 'r_arch',\n",
              " 'r_os',\n",
              " 'package',\n",
              " 'version',\n",
              " 'country',\n",
              " 'ip_id']"
            ]
          },
          "metadata": {
            "tags": []
          },
          "execution_count": 68
        }
      ]
    },
    {
      "cell_type": "code",
      "metadata": {
        "id": "fvo6lzJt0_FU",
        "colab_type": "code",
        "outputId": "78b9b995-e6af-48a1-f29b-f06ed188f104",
        "colab": {
          "base_uri": "https://localhost:8080/",
          "height": 185
        }
      },
      "source": [
        "df2.dtypes"
      ],
      "execution_count": 0,
      "outputs": [
        {
          "output_type": "execute_result",
          "data": {
            "text/plain": [
              "[('date', 'string'),\n",
              " ('time', 'string'),\n",
              " ('size', 'string'),\n",
              " ('r_version', 'string'),\n",
              " ('r_arch', 'string'),\n",
              " ('r_os', 'string'),\n",
              " ('package', 'string'),\n",
              " ('version', 'string'),\n",
              " ('country', 'string'),\n",
              " ('ip_id', 'string')]"
            ]
          },
          "metadata": {
            "tags": []
          },
          "execution_count": 69
        }
      ]
    },
    {
      "cell_type": "markdown",
      "metadata": {
        "id": "_iW0cIQJ1VAU",
        "colab_type": "text"
      },
      "source": [
        "### Preprocessing"
      ]
    },
    {
      "cell_type": "code",
      "metadata": {
        "id": "IDDbQr6-1MUG",
        "colab_type": "code",
        "colab": {}
      },
      "source": [
        "from pyspark.sql.types import IntegerType, DateType"
      ],
      "execution_count": 0,
      "outputs": []
    },
    {
      "cell_type": "code",
      "metadata": {
        "id": "l_ZN7of-1eHn",
        "colab_type": "code",
        "colab": {}
      },
      "source": [
        "df3 = df2\\\n",
        ".withColumn('size', df2.size.cast(IntegerType())) \\\n",
        ".withColumn('date', df2.date.cast(DateType()))"
      ],
      "execution_count": 0,
      "outputs": []
    },
    {
      "cell_type": "code",
      "metadata": {
        "id": "A0dLJPuO1vpr",
        "colab_type": "code",
        "outputId": "169694c1-3afc-468d-eafe-92f1fcc02cb1",
        "colab": {
          "base_uri": "https://localhost:8080/",
          "height": 54
        }
      },
      "source": [
        "# the new dataframe\n",
        "df3.take(1)"
      ],
      "execution_count": 0,
      "outputs": [
        {
          "output_type": "execute_result",
          "data": {
            "text/plain": [
              "[Row(date=datetime.date(2015, 12, 12), time='13:42:10', size=257886, r_version='3.2.2', r_arch='i386', r_os='mingw32', package='HistData', version='0.7-6', country='CZ', ip_id='1')]"
            ]
          },
          "metadata": {
            "tags": []
          },
          "execution_count": 77
        }
      ]
    },
    {
      "cell_type": "code",
      "metadata": {
        "id": "SRa7Izr-1wB_",
        "colab_type": "code",
        "outputId": "90efbcc3-daf4-4c87-a808-c423acebe776",
        "colab": {
          "base_uri": "https://localhost:8080/",
          "height": 54
        }
      },
      "source": [
        "# for comparison, the scnd dataframe look\n",
        "df2.take(1)"
      ],
      "execution_count": 0,
      "outputs": [
        {
          "output_type": "execute_result",
          "data": {
            "text/plain": [
              "[Row(date='2015-12-12', time='13:42:10', size='257886', r_version='3.2.2', r_arch='i386', r_os='mingw32', package='HistData', version='0.7-6', country='CZ', ip_id='1')]"
            ]
          },
          "metadata": {
            "tags": []
          },
          "execution_count": 78
        }
      ]
    },
    {
      "cell_type": "code",
      "metadata": {
        "id": "VAh-y-Ov2b0E",
        "colab_type": "code",
        "outputId": "db2b4f51-276b-4578-e441-06a887fe1874",
        "colab": {
          "base_uri": "https://localhost:8080/",
          "height": 185
        }
      },
      "source": [
        "df3.dtypes"
      ],
      "execution_count": 0,
      "outputs": [
        {
          "output_type": "execute_result",
          "data": {
            "text/plain": [
              "[('date', 'date'),\n",
              " ('time', 'string'),\n",
              " ('size', 'int'),\n",
              " ('r_version', 'string'),\n",
              " ('r_arch', 'string'),\n",
              " ('r_os', 'string'),\n",
              " ('package', 'string'),\n",
              " ('version', 'string'),\n",
              " ('country', 'string'),\n",
              " ('ip_id', 'string')]"
            ]
          },
          "metadata": {
            "tags": []
          },
          "execution_count": 79
        }
      ]
    },
    {
      "cell_type": "code",
      "metadata": {
        "id": "Ei0va8YB2hho",
        "colab_type": "code",
        "outputId": "d3d7fe2d-635e-470e-f390-17997b758e72",
        "colab": {
          "base_uri": "https://localhost:8080/",
          "height": 151
        }
      },
      "source": [
        "df3.show(2)"
      ],
      "execution_count": 0,
      "outputs": [
        {
          "output_type": "stream",
          "text": [
            "+----------+--------+-------+---------+------+-------+--------+-------+-------+-----+\n",
            "|      date|    time|   size|r_version|r_arch|   r_os| package|version|country|ip_id|\n",
            "+----------+--------+-------+---------+------+-------+--------+-------+-------+-----+\n",
            "|2015-12-12|13:42:10| 257886|    3.2.2|  i386|mingw32|HistData|  0.7-6|     CZ|    1|\n",
            "|2015-12-12|13:24:37|1236751|    3.2.2|x86_64|mingw32| RJSONIO|  1.3-0|     DE|    2|\n",
            "+----------+--------+-------+---------+------+-------+--------+-------+-------+-----+\n",
            "only showing top 2 rows\n",
            "\n"
          ],
          "name": "stdout"
        }
      ]
    },
    {
      "cell_type": "markdown",
      "metadata": {
        "id": "pu1S9XbT3job",
        "colab_type": "text"
      },
      "source": [
        "#### Renaming Columns"
      ]
    },
    {
      "cell_type": "code",
      "metadata": {
        "id": "FUjUwHYf20Rf",
        "colab_type": "code",
        "colab": {}
      },
      "source": [
        "df4 = df3.withColumnRenamed('size', 'sizeeee')"
      ],
      "execution_count": 0,
      "outputs": []
    },
    {
      "cell_type": "code",
      "metadata": {
        "id": "c4u95oi12_qj",
        "colab_type": "code",
        "outputId": "a3fee83e-d258-4b9d-a7f2-c1e7c569ac30",
        "colab": {
          "base_uri": "https://localhost:8080/",
          "height": 134
        }
      },
      "source": [
        "df4.show(1)"
      ],
      "execution_count": 0,
      "outputs": [
        {
          "output_type": "stream",
          "text": [
            "+----------+--------+-------+---------+------+-------+--------+-------+-------+-----+\n",
            "|      date|    time|sizeeee|r_version|r_arch|   r_os| package|version|country|ip_id|\n",
            "+----------+--------+-------+---------+------+-------+--------+-------+-------+-----+\n",
            "|2015-12-12|13:42:10| 257886|    3.2.2|  i386|mingw32|HistData|  0.7-6|     CZ|    1|\n",
            "+----------+--------+-------+---------+------+-------+--------+-------+-------+-----+\n",
            "only showing top 1 row\n",
            "\n"
          ],
          "name": "stdout"
        }
      ]
    },
    {
      "cell_type": "code",
      "metadata": {
        "id": "y09zf9aJ3DpU",
        "colab_type": "code",
        "outputId": "dbf52056-3f86-4c4b-b839-627e00c3dc19",
        "colab": {
          "base_uri": "https://localhost:8080/",
          "height": 134
        }
      },
      "source": [
        "df3.sort(df3.size.desc()).show(1) # df3.size.asc()"
      ],
      "execution_count": 0,
      "outputs": [
        {
          "output_type": "stream",
          "text": [
            "+----------+--------+--------+---------+------+---------+---------+-------+-------+-----+\n",
            "|      date|    time|    size|r_version|r_arch|     r_os|  package|version|country|ip_id|\n",
            "+----------+--------+--------+---------+------+---------+---------+-------+-------+-----+\n",
            "|2015-12-12|02:28:49|68736865|    3.3.0|x86_64|linux-gnu|TCGA2STAT|    1.2|     US| 2700|\n",
            "+----------+--------+--------+---------+------+---------+---------+-------+-------+-----+\n",
            "only showing top 1 row\n",
            "\n"
          ],
          "name": "stdout"
        }
      ]
    },
    {
      "cell_type": "markdown",
      "metadata": {
        "id": "7CQTOxxD4D3N",
        "colab_type": "text"
      },
      "source": [
        "#### Aggregation"
      ]
    },
    {
      "cell_type": "code",
      "metadata": {
        "id": "4ygceMSW3TSY",
        "colab_type": "code",
        "outputId": "4771dd42-9d03-4447-b77e-fffabff5809e",
        "colab": {
          "base_uri": "https://localhost:8080/",
          "height": 202
        }
      },
      "source": [
        "df3.groupBy('package').count().sort('count', ascending=False).show(5)"
      ],
      "execution_count": 0,
      "outputs": [
        {
          "output_type": "stream",
          "text": [
            "+-------+-----+\n",
            "|package|count|\n",
            "+-------+-----+\n",
            "|   Rcpp| 4783|\n",
            "|ggplot2| 3913|\n",
            "|stringi| 3748|\n",
            "|stringr| 3449|\n",
            "|   plyr| 3436|\n",
            "+-------+-----+\n",
            "only showing top 5 rows\n",
            "\n"
          ],
          "name": "stdout"
        }
      ]
    },
    {
      "cell_type": "code",
      "metadata": {
        "id": "MctFiiMD4BOv",
        "colab_type": "code",
        "outputId": "fccdbdea-5ce4-464b-f63c-b69cb7c54b49",
        "colab": {
          "base_uri": "https://localhost:8080/",
          "height": 34
        }
      },
      "source": [
        "df3.filter(df3.size > 1000).count()"
      ],
      "execution_count": 0,
      "outputs": [
        {
          "output_type": "execute_result",
          "data": {
            "text/plain": [
              "374873"
            ]
          },
          "metadata": {
            "tags": []
          },
          "execution_count": 96
        }
      ]
    },
    {
      "cell_type": "code",
      "metadata": {
        "id": "PwVk_LMu4xj_",
        "colab_type": "code",
        "outputId": "4d1f2a1d-24ee-4200-95f8-fa7e16b24cff",
        "colab": {
          "base_uri": "https://localhost:8080/",
          "height": 185
        }
      },
      "source": [
        "# TODO: look into this - is it not an action?\n",
        "df3.groupBy('package').count().show(4)"
      ],
      "execution_count": 0,
      "outputs": [
        {
          "output_type": "stream",
          "text": [
            "+----------+-----+\n",
            "|   package|count|\n",
            "+----------+-----+\n",
            "|   TH.data|  532|\n",
            "|     sharx|   20|\n",
            "|   spssDDI|    8|\n",
            "|xpose4data|    5|\n",
            "+----------+-----+\n",
            "only showing top 4 rows\n",
            "\n"
          ],
          "name": "stdout"
        }
      ]
    },
    {
      "cell_type": "markdown",
      "metadata": {
        "id": "BHHj2XtB520Y",
        "colab_type": "text"
      },
      "source": [
        "### Spark SQL"
      ]
    },
    {
      "cell_type": "code",
      "metadata": {
        "id": "34Zv3AeM5GGJ",
        "colab_type": "code",
        "outputId": "e794266c-dc6c-4e72-faae-aad117f6dd86",
        "colab": {
          "base_uri": "https://localhost:8080/",
          "height": 162
        }
      },
      "source": [
        "# this creates temporary table withing 'sc' context.\n",
        "df3.createOrReplaceGlobalTempView('r_packages')"
      ],
      "execution_count": 0,
      "outputs": [
        {
          "output_type": "error",
          "ename": "AttributeError",
          "evalue": "ignored",
          "traceback": [
            "\u001b[0;31m---------------------------------------------------------------------------\u001b[0m",
            "\u001b[0;31mAttributeError\u001b[0m                            Traceback (most recent call last)",
            "\u001b[0;32m<ipython-input-131-6121bc1018dd>\u001b[0m in \u001b[0;36m<module>\u001b[0;34m()\u001b[0m\n\u001b[0;32m----> 1\u001b[0;31m \u001b[0mdf3\u001b[0m\u001b[0;34m.\u001b[0m\u001b[0mcreateOrReplaceGlobalTempView\u001b[0m\u001b[0;34m(\u001b[0m\u001b[0;34m'r_packages'\u001b[0m\u001b[0;34m)\u001b[0m\u001b[0;34m.\u001b[0m\u001b[0mcache\u001b[0m\u001b[0;34m(\u001b[0m\u001b[0;34m)\u001b[0m\u001b[0;34m\u001b[0m\u001b[0;34m\u001b[0m\u001b[0m\n\u001b[0m",
            "\u001b[0;31mAttributeError\u001b[0m: 'NoneType' object has no attribute 'cache'"
          ]
        }
      ]
    },
    {
      "cell_type": "code",
      "metadata": {
        "id": "_KY0Hlqh6Jlk",
        "colab_type": "code",
        "colab": {}
      },
      "source": [
        "sqlContext = SQLContext(sc)"
      ],
      "execution_count": 0,
      "outputs": []
    },
    {
      "cell_type": "code",
      "metadata": {
        "id": "6tpWuf0J6SSe",
        "colab_type": "code",
        "outputId": "a141e0a6-72cb-498f-e841-19f5276a791a",
        "colab": {
          "base_uri": "https://localhost:8080/",
          "height": 34
        }
      },
      "source": [
        "sqlContext.sql('select package from global_temp.r_packages')"
      ],
      "execution_count": 0,
      "outputs": [
        {
          "output_type": "execute_result",
          "data": {
            "text/plain": [
              "DataFrame[package: string]"
            ]
          },
          "metadata": {
            "tags": []
          },
          "execution_count": 106
        }
      ]
    },
    {
      "cell_type": "code",
      "metadata": {
        "id": "7sxiWc2y6Zmn",
        "colab_type": "code",
        "outputId": "4bf72be0-7f58-4b5a-c637-943be07e9108",
        "colab": {
          "base_uri": "https://localhost:8080/",
          "height": 54
        }
      },
      "source": [
        "sqlContext.table('global_temp.r_packages').cache()"
      ],
      "execution_count": 0,
      "outputs": [
        {
          "output_type": "execute_result",
          "data": {
            "text/plain": [
              "DataFrame[date: date, time: string, size: int, r_version: string, r_arch: string, r_os: string, package: string, version: string, country: string, ip_id: string]"
            ]
          },
          "metadata": {
            "tags": []
          },
          "execution_count": 132
        }
      ]
    },
    {
      "cell_type": "code",
      "metadata": {
        "id": "fGjwcGaR9rwx",
        "colab_type": "code",
        "outputId": "4e8e61b2-b1a9-4025-bac8-0d856a9198e4",
        "colab": {
          "base_uri": "https://localhost:8080/",
          "height": 168
        }
      },
      "source": [
        "sqlContext.sql('select package, size, r_os from global_temp.r_packages where size > 1000 order by 2 desc').show(3)"
      ],
      "execution_count": 0,
      "outputs": [
        {
          "output_type": "stream",
          "text": [
            "+---------+--------+---------+\n",
            "|  package|    size|     r_os|\n",
            "+---------+--------+---------+\n",
            "|TCGA2STAT|68736865|  mingw32|\n",
            "|TCGA2STAT|68736865|  mingw32|\n",
            "|TCGA2STAT|68736865|linux-gnu|\n",
            "+---------+--------+---------+\n",
            "only showing top 3 rows\n",
            "\n"
          ],
          "name": "stdout"
        }
      ]
    },
    {
      "cell_type": "code",
      "metadata": {
        "id": "phs-IfYH-FBE",
        "colab_type": "code",
        "colab": {}
      },
      "source": [
        "query_results = sqlContext.sql(\"\"\"\n",
        "  select package, r_os, max(size)\n",
        "  from global_temp.r_packages \n",
        "  where size > 1000 \n",
        "  group by package, r_os\n",
        "  having package = 'TCGA2STAT' -- r_os = 'linux-gnu'\n",
        "  order by 2 desc\n",
        "\"\"\")"
      ],
      "execution_count": 0,
      "outputs": []
    },
    {
      "cell_type": "code",
      "metadata": {
        "id": "A1kqhkWn-c8K",
        "colab_type": "code",
        "outputId": "4ad29532-1cc3-4f12-a31c-242f2eadf396",
        "colab": {
          "base_uri": "https://localhost:8080/",
          "height": 168
        }
      },
      "source": [
        "query_results.show(3)"
      ],
      "execution_count": 0,
      "outputs": [
        {
          "output_type": "stream",
          "text": [
            "+---------+------------+---------+\n",
            "|  package|        r_os|max(size)|\n",
            "+---------+------------+---------+\n",
            "|TCGA2STAT|     mingw32| 68736865|\n",
            "|TCGA2STAT|   linux-gnu| 68736865|\n",
            "|TCGA2STAT|darwin13.4.0| 68736862|\n",
            "+---------+------------+---------+\n",
            "only showing top 3 rows\n",
            "\n"
          ],
          "name": "stdout"
        }
      ]
    },
    {
      "cell_type": "code",
      "metadata": {
        "id": "oF7PsX5E-yIT",
        "colab_type": "code",
        "outputId": "82afbd80-c2fb-4f9a-af18-86b9bbffa78a",
        "colab": {
          "base_uri": "https://localhost:8080/",
          "height": 34
        }
      },
      "source": [
        "# this is RDD, doesn't schema, which will show me the columns\n",
        "query_results.rdd.map(lambda x: x.package + ' - ' + x.r_os).take(2)"
      ],
      "execution_count": 0,
      "outputs": [
        {
          "output_type": "execute_result",
          "data": {
            "text/plain": [
              "['data.table - solaris2.10', 'swirl - mingw32']"
            ]
          },
          "metadata": {
            "tags": []
          },
          "execution_count": 119
        }
      ]
    },
    {
      "cell_type": "code",
      "metadata": {
        "id": "yRf3FExL_BFh",
        "colab_type": "code",
        "outputId": "3e562579-564c-4a6e-9964-c1b7b4330c95",
        "colab": {
          "base_uri": "https://localhost:8080/",
          "height": 279
        }
      },
      "source": [
        "# This is from dataframe, do the transformation and take 2 \n",
        "# TODO: do this\n",
        "query_results.select(['package', 'r_os']).map(lambda x: x.package + ' - ' + x.r_os).take(2)"
      ],
      "execution_count": 0,
      "outputs": [
        {
          "output_type": "error",
          "ename": "AttributeError",
          "evalue": "ignored",
          "traceback": [
            "\u001b[0;31m---------------------------------------------------------------------------\u001b[0m",
            "\u001b[0;31mAttributeError\u001b[0m                            Traceback (most recent call last)",
            "\u001b[0;32m<ipython-input-124-c126c1bb49bc>\u001b[0m in \u001b[0;36m<module>\u001b[0;34m()\u001b[0m\n\u001b[0;32m----> 1\u001b[0;31m \u001b[0mquery_results\u001b[0m\u001b[0;34m.\u001b[0m\u001b[0mselect\u001b[0m\u001b[0;34m(\u001b[0m\u001b[0;34m[\u001b[0m\u001b[0;34m'package'\u001b[0m\u001b[0;34m,\u001b[0m \u001b[0;34m'r_os'\u001b[0m\u001b[0;34m]\u001b[0m\u001b[0;34m)\u001b[0m\u001b[0;34m.\u001b[0m\u001b[0mmap\u001b[0m\u001b[0;34m(\u001b[0m\u001b[0;32mlambda\u001b[0m \u001b[0mx\u001b[0m\u001b[0;34m:\u001b[0m \u001b[0mx\u001b[0m\u001b[0;34m.\u001b[0m\u001b[0mpackage\u001b[0m \u001b[0;34m+\u001b[0m \u001b[0;34m' - '\u001b[0m \u001b[0;34m+\u001b[0m \u001b[0mx\u001b[0m\u001b[0;34m.\u001b[0m\u001b[0mr_os\u001b[0m\u001b[0;34m)\u001b[0m\u001b[0;34m.\u001b[0m\u001b[0mtake\u001b[0m\u001b[0;34m(\u001b[0m\u001b[0;36m2\u001b[0m\u001b[0;34m)\u001b[0m\u001b[0;34m\u001b[0m\u001b[0;34m\u001b[0m\u001b[0m\n\u001b[0m",
            "\u001b[0;32m/usr/local/lib/python3.6/dist-packages/pyspark/sql/dataframe.py\u001b[0m in \u001b[0;36m__getattr__\u001b[0;34m(self, name)\u001b[0m\n\u001b[1;32m   1302\u001b[0m         \u001b[0;32mif\u001b[0m \u001b[0mname\u001b[0m \u001b[0;32mnot\u001b[0m \u001b[0;32min\u001b[0m \u001b[0mself\u001b[0m\u001b[0;34m.\u001b[0m\u001b[0mcolumns\u001b[0m\u001b[0;34m:\u001b[0m\u001b[0;34m\u001b[0m\u001b[0;34m\u001b[0m\u001b[0m\n\u001b[1;32m   1303\u001b[0m             raise AttributeError(\n\u001b[0;32m-> 1304\u001b[0;31m                 \"'%s' object has no attribute '%s'\" % (self.__class__.__name__, name))\n\u001b[0m\u001b[1;32m   1305\u001b[0m         \u001b[0mjc\u001b[0m \u001b[0;34m=\u001b[0m \u001b[0mself\u001b[0m\u001b[0;34m.\u001b[0m\u001b[0m_jdf\u001b[0m\u001b[0;34m.\u001b[0m\u001b[0mapply\u001b[0m\u001b[0;34m(\u001b[0m\u001b[0mname\u001b[0m\u001b[0;34m)\u001b[0m\u001b[0;34m\u001b[0m\u001b[0;34m\u001b[0m\u001b[0m\n\u001b[1;32m   1306\u001b[0m         \u001b[0;32mreturn\u001b[0m \u001b[0mColumn\u001b[0m\u001b[0;34m(\u001b[0m\u001b[0mjc\u001b[0m\u001b[0;34m)\u001b[0m\u001b[0;34m\u001b[0m\u001b[0;34m\u001b[0m\u001b[0m\n",
            "\u001b[0;31mAttributeError\u001b[0m: 'DataFrame' object has no attribute 'map'"
          ]
        }
      ]
    },
    {
      "cell_type": "code",
      "metadata": {
        "id": "Xt2e51sR_LiW",
        "colab_type": "code",
        "colab": {}
      },
      "source": [
        ""
      ],
      "execution_count": 0,
      "outputs": []
    }
  ]
}