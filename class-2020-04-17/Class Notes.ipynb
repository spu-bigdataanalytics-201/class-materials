{
 "cells": [
  {
   "cell_type": "code",
   "execution_count": 2,
   "metadata": {},
   "outputs": [],
   "source": [
    "import pandas as pd"
   ]
  },
  {
   "cell_type": "markdown",
   "metadata": {},
   "source": [
    "### Pandas Dtypes"
   ]
  },
  {
   "cell_type": "markdown",
   "metadata": {},
   "source": [
    "#### Dataframe Simple"
   ]
  },
  {
   "cell_type": "code",
   "execution_count": 26,
   "metadata": {},
   "outputs": [],
   "source": [
    "df = pd.DataFrame([{'id': 1.0, 'name': 'Metin'}])"
   ]
  },
  {
   "cell_type": "code",
   "execution_count": 27,
   "metadata": {},
   "outputs": [
    {
     "data": {
      "text/plain": [
       "0    100000000.0\n",
       "Name: id, dtype: float64"
      ]
     },
     "execution_count": 27,
     "metadata": {},
     "output_type": "execute_result"
    }
   ],
   "source": [
    "df.id"
   ]
  },
  {
   "cell_type": "code",
   "execution_count": 28,
   "metadata": {},
   "outputs": [
    {
     "data": {
      "text/plain": [
       "0    Metin\n",
       "Name: name, dtype: object"
      ]
     },
     "execution_count": 28,
     "metadata": {},
     "output_type": "execute_result"
    }
   ],
   "source": [
    "df.name"
   ]
  },
  {
   "cell_type": "code",
   "execution_count": 29,
   "metadata": {
    "scrolled": true
   },
   "outputs": [
    {
     "name": "stdout",
     "output_type": "stream",
     "text": [
      "<class 'pandas.core.frame.DataFrame'>\n",
      "RangeIndex: 1 entries, 0 to 0\n",
      "Columns: 2 entries, id to name\n",
      "dtypes: float64(1), object(1)\n",
      "memory usage: 144.0+ bytes\n"
     ]
    }
   ],
   "source": [
    "df.info(verbose=False)"
   ]
  },
  {
   "cell_type": "markdown",
   "metadata": {},
   "source": [
    "#### Dataframe - Using Dtypes"
   ]
  },
  {
   "cell_type": "code",
   "execution_count": 30,
   "metadata": {},
   "outputs": [],
   "source": [
    "df = pd.DataFrame([{'id': 1.0, 'name': 'Metin'}])"
   ]
  },
  {
   "cell_type": "code",
   "execution_count": 31,
   "metadata": {},
   "outputs": [
    {
     "data": {
      "text/plain": [
       "0    1\n",
       "Name: id, dtype: int32"
      ]
     },
     "execution_count": 31,
     "metadata": {},
     "output_type": "execute_result"
    }
   ],
   "source": [
    "df.id = df.id.astype(int)\n",
    "df.id"
   ]
  },
  {
   "cell_type": "code",
   "execution_count": 32,
   "metadata": {},
   "outputs": [
    {
     "data": {
      "text/plain": [
       "0    Metin\n",
       "Name: name, dtype: object"
      ]
     },
     "execution_count": 32,
     "metadata": {},
     "output_type": "execute_result"
    }
   ],
   "source": [
    "df.name = df.name.astype(str)\n",
    "df.name"
   ]
  },
  {
   "cell_type": "code",
   "execution_count": 33,
   "metadata": {
    "scrolled": true
   },
   "outputs": [
    {
     "name": "stdout",
     "output_type": "stream",
     "text": [
      "<class 'pandas.core.frame.DataFrame'>\n",
      "RangeIndex: 1 entries, 0 to 0\n",
      "Columns: 2 entries, id to name\n",
      "dtypes: int32(1), object(1)\n",
      "memory usage: 140.0+ bytes\n"
     ]
    }
   ],
   "source": [
    "df.info(verbose=False)"
   ]
  },
  {
   "cell_type": "markdown",
   "metadata": {},
   "source": [
    "#### When you Increase the Numbers"
   ]
  },
  {
   "cell_type": "markdown",
   "metadata": {},
   "source": [
    "1 row -> 4 bytes\n",
    "100M row -> 40 MB"
   ]
  },
  {
   "cell_type": "markdown",
   "metadata": {},
   "source": [
    "### Pandas Chunking"
   ]
  },
  {
   "cell_type": "code",
   "execution_count": 36,
   "metadata": {},
   "outputs": [],
   "source": [
    "df = pd.read_csv('sample.csv', encoding='ANSI')"
   ]
  },
  {
   "cell_type": "code",
   "execution_count": 37,
   "metadata": {},
   "outputs": [
    {
     "data": {
      "text/plain": [
       "(14617, 6)"
      ]
     },
     "execution_count": 37,
     "metadata": {},
     "output_type": "execute_result"
    }
   ],
   "source": [
    "df.shape"
   ]
  },
  {
   "cell_type": "code",
   "execution_count": 38,
   "metadata": {},
   "outputs": [
    {
     "data": {
      "text/html": [
       "<div>\n",
       "<style scoped>\n",
       "    .dataframe tbody tr th:only-of-type {\n",
       "        vertical-align: middle;\n",
       "    }\n",
       "\n",
       "    .dataframe tbody tr th {\n",
       "        vertical-align: top;\n",
       "    }\n",
       "\n",
       "    .dataframe thead th {\n",
       "        text-align: right;\n",
       "    }\n",
       "</style>\n",
       "<table border=\"1\" class=\"dataframe\">\n",
       "  <thead>\n",
       "    <tr style=\"text-align: right;\">\n",
       "      <th></th>\n",
       "      <th>description</th>\n",
       "      <th>industry</th>\n",
       "      <th>level</th>\n",
       "      <th>size</th>\n",
       "      <th>line_code</th>\n",
       "      <th>value</th>\n",
       "    </tr>\n",
       "  </thead>\n",
       "  <tbody>\n",
       "    <tr>\n",
       "      <th>0</th>\n",
       "      <td>Markets where business sold raw, unprocessed m...</td>\n",
       "      <td>total</td>\n",
       "      <td>0</td>\n",
       "      <td>6–19 employees</td>\n",
       "      <td>C0201.01</td>\n",
       "      <td>2715</td>\n",
       "    </tr>\n",
       "    <tr>\n",
       "      <th>1</th>\n",
       "      <td>Markets where business sold raw, unprocessed m...</td>\n",
       "      <td>total</td>\n",
       "      <td>0</td>\n",
       "      <td>20–49 employees</td>\n",
       "      <td>C0201.01</td>\n",
       "      <td>858</td>\n",
       "    </tr>\n",
       "    <tr>\n",
       "      <th>2</th>\n",
       "      <td>Markets where business sold raw, unprocessed m...</td>\n",
       "      <td>total</td>\n",
       "      <td>0</td>\n",
       "      <td>50–99 employees</td>\n",
       "      <td>C0201.01</td>\n",
       "      <td>240</td>\n",
       "    </tr>\n",
       "    <tr>\n",
       "      <th>3</th>\n",
       "      <td>Markets where business sold raw, unprocessed m...</td>\n",
       "      <td>total</td>\n",
       "      <td>0</td>\n",
       "      <td>100+ employees</td>\n",
       "      <td>C0201.01</td>\n",
       "      <td>234</td>\n",
       "    </tr>\n",
       "    <tr>\n",
       "      <th>4</th>\n",
       "      <td>Markets where business sold raw, unprocessed m...</td>\n",
       "      <td>Agriculture, forestry, &amp; fishing</td>\n",
       "      <td>1</td>\n",
       "      <td>total</td>\n",
       "      <td>C0201.01</td>\n",
       "      <td>1410</td>\n",
       "    </tr>\n",
       "  </tbody>\n",
       "</table>\n",
       "</div>"
      ],
      "text/plain": [
       "                                         description  \\\n",
       "0  Markets where business sold raw, unprocessed m...   \n",
       "1  Markets where business sold raw, unprocessed m...   \n",
       "2  Markets where business sold raw, unprocessed m...   \n",
       "3  Markets where business sold raw, unprocessed m...   \n",
       "4  Markets where business sold raw, unprocessed m...   \n",
       "\n",
       "                           industry  level             size line_code  value  \n",
       "0                             total      0   6–19 employees  C0201.01   2715  \n",
       "1                             total      0  20–49 employees  C0201.01    858  \n",
       "2                             total      0  50–99 employees  C0201.01    240  \n",
       "3                             total      0   100+ employees  C0201.01    234  \n",
       "4  Agriculture, forestry, & fishing      1            total  C0201.01   1410  "
      ]
     },
     "execution_count": 38,
     "metadata": {},
     "output_type": "execute_result"
    }
   ],
   "source": [
    "df.head()"
   ]
  },
  {
   "cell_type": "code",
   "execution_count": 43,
   "metadata": {},
   "outputs": [
    {
     "data": {
      "text/plain": [
       "1000000.0"
      ]
     },
     "execution_count": 43,
     "metadata": {},
     "output_type": "execute_result"
    }
   ],
   "source": [
    "1e6"
   ]
  },
  {
   "cell_type": "code",
   "execution_count": 44,
   "metadata": {},
   "outputs": [
    {
     "data": {
      "text/plain": [
       "0.701744"
      ]
     },
     "execution_count": 44,
     "metadata": {},
     "output_type": "execute_result"
    }
   ],
   "source": [
    "# byte divided by 1000000\n",
    "sum(df.memory_usage()) / 1e6"
   ]
  },
  {
   "cell_type": "code",
   "execution_count": 53,
   "metadata": {},
   "outputs": [
    {
     "data": {
      "text/plain": [
       "<pandas.io.parsers.TextFileReader at 0x1b0ccce2c10>"
      ]
     },
     "execution_count": 53,
     "metadata": {},
     "output_type": "execute_result"
    }
   ],
   "source": [
    "df_chunks = pd.read_csv('sample.csv', encoding='ANSI', chunksize=1000)\n",
    "df_chunks"
   ]
  },
  {
   "cell_type": "code",
   "execution_count": 54,
   "metadata": {},
   "outputs": [
    {
     "name": "stdout",
     "output_type": "stream",
     "text": [
      "(1000, 6) row index start:  0 row index end:  999\n",
      "(1000, 6) row index start:  1000 row index end:  1999\n",
      "(1000, 6) row index start:  2000 row index end:  2999\n",
      "(1000, 6) row index start:  3000 row index end:  3999\n",
      "(1000, 6) row index start:  4000 row index end:  4999\n",
      "(1000, 6) row index start:  5000 row index end:  5999\n",
      "(1000, 6) row index start:  6000 row index end:  6999\n",
      "(1000, 6) row index start:  7000 row index end:  7999\n",
      "(1000, 6) row index start:  8000 row index end:  8999\n",
      "(1000, 6) row index start:  9000 row index end:  9999\n",
      "(1000, 6) row index start:  10000 row index end:  10999\n",
      "(1000, 6) row index start:  11000 row index end:  11999\n",
      "(1000, 6) row index start:  12000 row index end:  12999\n",
      "(1000, 6) row index start:  13000 row index end:  13999\n",
      "(617, 6) row index start:  14000 row index end:  14616\n"
     ]
    }
   ],
   "source": [
    "for df in df_chunks:\n",
    "    print(df.shape, \"row index start: \", df.index.min(), \"row index end: \", df.index.max())"
   ]
  },
  {
   "cell_type": "markdown",
   "metadata": {},
   "source": [
    "### Definition of Big Data"
   ]
  },
  {
   "cell_type": "markdown",
   "metadata": {},
   "source": [
    "Relational vs NoSQL Database\n",
    "\n",
    "checkout mongodb."
   ]
  },
  {
   "cell_type": "code",
   "execution_count": null,
   "metadata": {},
   "outputs": [],
   "source": []
  }
 ],
 "metadata": {
  "kernelspec": {
   "display_name": "Classroom",
   "language": "python",
   "name": "classroom"
  },
  "language_info": {
   "codemirror_mode": {
    "name": "ipython",
    "version": 3
   },
   "file_extension": ".py",
   "mimetype": "text/x-python",
   "name": "python",
   "nbconvert_exporter": "python",
   "pygments_lexer": "ipython3",
   "version": "3.8.1"
  }
 },
 "nbformat": 4,
 "nbformat_minor": 4
}
